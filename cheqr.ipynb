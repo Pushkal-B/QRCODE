{
  "nbformat": 4,
  "nbformat_minor": 0,
  "metadata": {
    "colab": {
      "name": "qrgen.ipynb",
      "provenance": [],
      "authorship_tag": "ABX9TyPXhBO/ogkZ9CfcVy6iQ6rJ",
      "include_colab_link": true
    },
    "kernelspec": {
      "name": "python3",
      "display_name": "Python 3"
    },
    "language_info": {
      "name": "python"
    }
  },
  "cells": [
    {
      "cell_type": "markdown",
      "metadata": {
        "id": "view-in-github",
        "colab_type": "text"
      },
      "source": [
        "<a href=\"https://colab.research.google.com/github/Pushkal-B/QRCODE/blob/main/cheqr.ipynb\" target=\"_parent\"><img src=\"https://colab.research.google.com/assets/colab-badge.svg\" alt=\"Open In Colab\"/></a>"
      ]
    },
    {
      "cell_type": "code",
      "source": [
        "# Install the python-chess library with SVG support\n",
        "!pip install python-chess\n",
        "!pip install cairosvg\n",
        "!pip install opencv-python\n",
        "!pip install numpy\n",
        "!pip install python-chess\n",
        "\n",
        "\n",
        "# Import necessary libraries\n",
        "import chess\n",
        "import chess.svg\n",
        "import math\n",
        "from IPython.display import display, SVG\n",
        "import base64\n",
        "import cairosvg\n",
        "import cv2\n",
        "import numpy as np"
      ],
      "metadata": {
        "id": "F8oINPnY_3T6",
        "outputId": "8caba9ce-f845-4f5a-ef92-00c154cec061",
        "colab": {
          "base_uri": "https://localhost:8080/"
        }
      },
      "execution_count": 52,
      "outputs": [
        {
          "output_type": "stream",
          "name": "stdout",
          "text": [
            "Requirement already satisfied: python-chess in /usr/local/lib/python3.10/dist-packages (1.999)\n",
            "Requirement already satisfied: chess<2,>=1 in /usr/local/lib/python3.10/dist-packages (from python-chess) (1.11.1)\n",
            "Requirement already satisfied: cairosvg in /usr/local/lib/python3.10/dist-packages (2.7.1)\n",
            "Requirement already satisfied: cairocffi in /usr/local/lib/python3.10/dist-packages (from cairosvg) (1.7.1)\n",
            "Requirement already satisfied: cssselect2 in /usr/local/lib/python3.10/dist-packages (from cairosvg) (0.7.0)\n",
            "Requirement already satisfied: defusedxml in /usr/local/lib/python3.10/dist-packages (from cairosvg) (0.7.1)\n",
            "Requirement already satisfied: pillow in /usr/local/lib/python3.10/dist-packages (from cairosvg) (11.0.0)\n",
            "Requirement already satisfied: tinycss2 in /usr/local/lib/python3.10/dist-packages (from cairosvg) (1.4.0)\n",
            "Requirement already satisfied: cffi>=1.1.0 in /usr/local/lib/python3.10/dist-packages (from cairocffi->cairosvg) (1.17.1)\n",
            "Requirement already satisfied: webencodings in /usr/local/lib/python3.10/dist-packages (from cssselect2->cairosvg) (0.5.1)\n",
            "Requirement already satisfied: pycparser in /usr/local/lib/python3.10/dist-packages (from cffi>=1.1.0->cairocffi->cairosvg) (2.22)\n"
          ]
        }
      ]
    },
    {
      "cell_type": "code",
      "source": [
        "\n",
        "\n",
        "# Function to encode data into a sequence of legal chess moves\n",
        "def encode_data_into_moves(data):\n",
        "    board = chess.Board()  # Start from the standard initial position\n",
        "    moves = []\n",
        "    data_bytes = data.encode('utf-8')\n",
        "    data_bits = ''.join(format(byte, '08b') for byte in data_bytes)\n",
        "    data_index = 0\n",
        "\n",
        "    while data_index < len(data_bits):\n",
        "        # Get the list of legal moves in the current position\n",
        "        legal_moves = sorted(list(board.legal_moves), key=lambda m: m.uci())  # Consistent ordering\n",
        "        num_moves = len(legal_moves)\n",
        "        bits_per_move = math.floor(math.log2(num_moves))\n",
        "        if bits_per_move == 0:\n",
        "            raise ValueError(\"No legal moves available to encode data.\")\n",
        "\n",
        "        # Extract bits from data_bits\n",
        "        bits_to_read = bits_per_move\n",
        "        bits = data_bits[data_index:data_index + bits_to_read]\n",
        "        if len(bits) < bits_per_move:\n",
        "            # Pad with zeros if necessary\n",
        "            bits = bits.ljust(bits_per_move, '0')\n",
        "        data_index += bits_per_move\n",
        "\n",
        "        # Convert bits to an index\n",
        "        move_index = int(bits, 2)\n",
        "        if move_index >= num_moves:\n",
        "            move_index = num_moves - 1  # Adjust if out of bounds\n",
        "\n",
        "        # Select the move and apply it\n",
        "        move = legal_moves[move_index]\n",
        "        board.push(move)\n",
        "        moves.append(move)\n",
        "\n",
        "        # Check for game over\n",
        "        if board.is_game_over():\n",
        "            break\n",
        "\n",
        "    return moves\n",
        "\n",
        "# Function to decode data from a sequence of moves\n",
        "def decode_data_from_moves(moves):\n",
        "    board = chess.Board()\n",
        "    data_bits = ''\n",
        "    for move in moves:\n",
        "        legal_moves = sorted(list(board.legal_moves), key=lambda m: m.uci())  # Consistent ordering\n",
        "        num_moves = len(legal_moves)\n",
        "        bits_per_move = math.floor(math.log2(num_moves))\n",
        "        if bits_per_move == 0:\n",
        "            break  # No data can be encoded here\n",
        "\n",
        "        # Find the index of the move in the list of legal moves\n",
        "        move_index = legal_moves.index(move)\n",
        "        # Convert index to bits\n",
        "        bits = format(move_index, f'0{bits_per_move}b')\n",
        "        data_bits += bits\n",
        "\n",
        "        board.push(move)\n",
        "\n",
        "        # Check for game over\n",
        "        if board.is_game_over():\n",
        "            break\n",
        "\n",
        "    # Convert bits to bytes\n",
        "    data_bytes = int(data_bits, 2).to_bytes((len(data_bits) + 7) // 8, byteorder='big')\n",
        "    # Decode bytes to string, ignoring padding zeros\n",
        "    data = data_bytes.rstrip(b'\\x00').decode('utf-8', errors='ignore')\n",
        "    return data\n",
        "\n",
        "# Function to display and save the final chess position with gray and white squares and black grid lines\n",
        "def display_and_save_chess_position_with_grid(board, size=350, filename='chessboard.png'):\n",
        "    # Define custom styles for squares and pieces with grid lines\n",
        "    style = \"\"\"\n",
        "    .square {\n",
        "        stroke: #000000;  /* Black grid lines */\n",
        "        stroke-width: 1px;\n",
        "    }\n",
        "    .square.light { fill: #FFFFFF; }  /* Light squares are white */\n",
        "    .square.dark { fill: #CCCCCC; }   /* Dark squares are light gray */\n",
        "    \"\"\"\n",
        "\n",
        "    svg_board = chess.svg.board(\n",
        "        board=board,\n",
        "        size=size,\n",
        "        coordinates=False,\n",
        "        style=style\n",
        "    )\n",
        "    # Display the SVG in the notebook\n",
        "    display(SVG(svg_board))\n",
        "\n",
        "    # Save the SVG to a file\n",
        "    svg_filename = 'chessboard.svg'\n",
        "    with open(svg_filename, 'w') as f:\n",
        "        f.write(svg_board)\n",
        "\n",
        "    # Convert SVG to PNG using cairosvg\n",
        "    cairosvg.svg2png(url=svg_filename, write_to=filename)\n",
        "    print(f\"Chessboard image saved as '{filename}'\")\n",
        "\n",
        "# Prompt the user to enter the data to encode\n",
        "data = input(\"Enter the data to encode into the chessboard: \")\n",
        "\n",
        "# Encode the data into moves\n",
        "moves = encode_data_into_moves(data)\n",
        "\n",
        "# Reconstruct the board from the moves\n",
        "board = chess.Board()\n",
        "for move in moves:\n",
        "    board.push(move)\n",
        "\n",
        "# Display and save the final position with gray and white squares and black grid lines\n",
        "display_and_save_chess_position_with_grid(board, size=350, filename='chessboard.png')  # Adjust the size parameter as needed\n",
        "\n",
        "# Decode the data\n",
        "decoded_data = decode_data_from_moves(moves)\n",
        "print(\"\\nDecoded Data:\", decoded_data)\n"
      ],
      "metadata": {
        "id": "ZTZIDTtn_57X",
        "outputId": "5b857fe2-0199-44a4-dd72-076bcf6b651f",
        "colab": {
          "base_uri": "https://localhost:8080/",
          "height": 440
        }
      },
      "execution_count": 49,
      "outputs": [
        {
          "name": "stdout",
          "output_type": "stream",
          "text": [
            "Enter the data to encode into the chessboard: abcdefghijklmnopqrstuvwxyz\n"
          ]
        },
        {
          "output_type": "display_data",
          "data": {
            "text/plain": [
              "<IPython.core.display.SVG object>"
            ],
            "image/svg+xml": "<svg xmlns=\"http://www.w3.org/2000/svg\" xmlns:xlink=\"http://www.w3.org/1999/xlink\" viewBox=\"0 0 360 360\" width=\"350\" height=\"350\"><style>\n    .square {\n        stroke: #000000;  /* Black grid lines */\n        stroke-width: 1px;\n    }\n    .square.light { fill: #FFFFFF; }  /* Light squares are white */\n    .square.dark { fill: #CCCCCC; }   /* Dark squares are light gray */\n    </style><desc><pre>b . . q . . n r\nr . . k b p p p\np . . p . . . .\n. . p P . . . .\n. . . . . P . .\nP n P . P . P N\n. P . . . . K P\nR N . . . . . R</pre></desc><defs><g id=\"white-pawn\" class=\"white pawn\"><path d=\"M22.5 9c-2.21 0-4 1.79-4 4 0 .89.29 1.71.78 2.38C17.33 16.5 16 18.59 16 21c0 2.03.94 3.84 2.41 5.03-3 1.06-7.41 5.55-7.41 13.47h23c0-7.92-4.41-12.41-7.41-13.47 1.47-1.19 2.41-3 2.41-5.03 0-2.41-1.33-4.5-3.28-5.62.49-.67.78-1.49.78-2.38 0-2.21-1.79-4-4-4z\" fill=\"#fff\" stroke=\"#000\" stroke-width=\"1.5\" stroke-linecap=\"round\"/></g><g id=\"white-knight\" class=\"white knight\" fill=\"none\" fill-rule=\"evenodd\" stroke=\"#000\" stroke-width=\"1.5\" stroke-linecap=\"round\" stroke-linejoin=\"round\"><path d=\"M 22,10 C 32.5,11 38.5,18 38,39 L 15,39 C 15,30 25,32.5 23,18\" style=\"fill:#ffffff; stroke:#000000;\"/><path d=\"M 24,18 C 24.38,20.91 18.45,25.37 16,27 C 13,29 13.18,31.34 11,31 C 9.958,30.06 12.41,27.96 11,28 C 10,28 11.19,29.23 10,30 C 9,30 5.997,31 6,26 C 6,24 12,14 12,14 C 12,14 13.89,12.1 14,10.5 C 13.27,9.506 13.5,8.5 13.5,7.5 C 14.5,6.5 16.5,10 16.5,10 L 18.5,10 C 18.5,10 19.28,8.008 21,7 C 22,7 22,10 22,10\" style=\"fill:#ffffff; stroke:#000000;\"/><path d=\"M 9.5 25.5 A 0.5 0.5 0 1 1 8.5,25.5 A 0.5 0.5 0 1 1 9.5 25.5 z\" style=\"fill:#000000; stroke:#000000;\"/><path d=\"M 15 15.5 A 0.5 1.5 0 1 1 14,15.5 A 0.5 1.5 0 1 1 15 15.5 z\" transform=\"matrix(0.866,0.5,-0.5,0.866,9.693,-5.173)\" style=\"fill:#000000; stroke:#000000;\"/></g><g id=\"white-rook\" class=\"white rook\" fill=\"#fff\" fill-rule=\"evenodd\" stroke=\"#000\" stroke-width=\"1.5\" stroke-linecap=\"round\" stroke-linejoin=\"round\"><path d=\"M9 39h27v-3H9v3zM12 36v-4h21v4H12zM11 14V9h4v2h5V9h5v2h5V9h4v5\" stroke-linecap=\"butt\"/><path d=\"M34 14l-3 3H14l-3-3\"/><path d=\"M31 17v12.5H14V17\" stroke-linecap=\"butt\" stroke-linejoin=\"miter\"/><path d=\"M31 29.5l1.5 2.5h-20l1.5-2.5\"/><path d=\"M11 14h23\" fill=\"none\" stroke-linejoin=\"miter\"/></g><g id=\"white-king\" class=\"white king\" fill=\"none\" fill-rule=\"evenodd\" stroke=\"#000\" stroke-width=\"1.5\" stroke-linecap=\"round\" stroke-linejoin=\"round\"><path d=\"M22.5 11.63V6M20 8h5\" stroke-linejoin=\"miter\"/><path d=\"M22.5 25s4.5-7.5 3-10.5c0 0-1-2.5-3-2.5s-3 2.5-3 2.5c-1.5 3 3 10.5 3 10.5\" fill=\"#fff\" stroke-linecap=\"butt\" stroke-linejoin=\"miter\"/><path d=\"M11.5 37c5.5 3.5 15.5 3.5 21 0v-7s9-4.5 6-10.5c-4-6.5-13.5-3.5-16 4V27v-3.5c-3.5-7.5-13-10.5-16-4-3 6 5 10 5 10V37z\" fill=\"#fff\"/><path d=\"M11.5 30c5.5-3 15.5-3 21 0m-21 3.5c5.5-3 15.5-3 21 0m-21 3.5c5.5-3 15.5-3 21 0\"/></g><g id=\"black-pawn\" class=\"black pawn\"><path d=\"M22.5 9c-2.21 0-4 1.79-4 4 0 .89.29 1.71.78 2.38C17.33 16.5 16 18.59 16 21c0 2.03.94 3.84 2.41 5.03-3 1.06-7.41 5.55-7.41 13.47h23c0-7.92-4.41-12.41-7.41-13.47 1.47-1.19 2.41-3 2.41-5.03 0-2.41-1.33-4.5-3.28-5.62.49-.67.78-1.49.78-2.38 0-2.21-1.79-4-4-4z\" fill=\"#000\" stroke=\"#000\" stroke-width=\"1.5\" stroke-linecap=\"round\"/></g><g id=\"black-knight\" class=\"black knight\" fill=\"none\" fill-rule=\"evenodd\" stroke=\"#000\" stroke-width=\"1.5\" stroke-linecap=\"round\" stroke-linejoin=\"round\"><path d=\"M 22,10 C 32.5,11 38.5,18 38,39 L 15,39 C 15,30 25,32.5 23,18\" style=\"fill:#000000; stroke:#000000;\"/><path d=\"M 24,18 C 24.38,20.91 18.45,25.37 16,27 C 13,29 13.18,31.34 11,31 C 9.958,30.06 12.41,27.96 11,28 C 10,28 11.19,29.23 10,30 C 9,30 5.997,31 6,26 C 6,24 12,14 12,14 C 12,14 13.89,12.1 14,10.5 C 13.27,9.506 13.5,8.5 13.5,7.5 C 14.5,6.5 16.5,10 16.5,10 L 18.5,10 C 18.5,10 19.28,8.008 21,7 C 22,7 22,10 22,10\" style=\"fill:#000000; stroke:#000000;\"/><path d=\"M 9.5 25.5 A 0.5 0.5 0 1 1 8.5,25.5 A 0.5 0.5 0 1 1 9.5 25.5 z\" style=\"fill:#ececec; stroke:#ececec;\"/><path d=\"M 15 15.5 A 0.5 1.5 0 1 1 14,15.5 A 0.5 1.5 0 1 1 15 15.5 z\" transform=\"matrix(0.866,0.5,-0.5,0.866,9.693,-5.173)\" style=\"fill:#ececec; stroke:#ececec;\"/><path d=\"M 24.55,10.4 L 24.1,11.85 L 24.6,12 C 27.75,13 30.25,14.49 32.5,18.75 C 34.75,23.01 35.75,29.06 35.25,39 L 35.2,39.5 L 37.45,39.5 L 37.5,39 C 38,28.94 36.62,22.15 34.25,17.66 C 31.88,13.17 28.46,11.02 25.06,10.5 L 24.55,10.4 z \" style=\"fill:#ececec; stroke:none;\"/></g><g id=\"black-bishop\" class=\"black bishop\" fill=\"none\" fill-rule=\"evenodd\" stroke=\"#000\" stroke-width=\"1.5\" stroke-linecap=\"round\" stroke-linejoin=\"round\"><path d=\"M9 36c3.39-.97 10.11.43 13.5-2 3.39 2.43 10.11 1.03 13.5 2 0 0 1.65.54 3 2-.68.97-1.65.99-3 .5-3.39-.97-10.11.46-13.5-1-3.39 1.46-10.11.03-13.5 1-1.354.49-2.323.47-3-.5 1.354-1.94 3-2 3-2zm6-4c2.5 2.5 12.5 2.5 15 0 .5-1.5 0-2 0-2 0-2.5-2.5-4-2.5-4 5.5-1.5 6-11.5-5-15.5-11 4-10.5 14-5 15.5 0 0-2.5 1.5-2.5 4 0 0-.5.5 0 2zM25 8a2.5 2.5 0 1 1-5 0 2.5 2.5 0 1 1 5 0z\" fill=\"#000\" stroke-linecap=\"butt\"/><path d=\"M17.5 26h10M15 30h15m-7.5-14.5v5M20 18h5\" stroke=\"#fff\" stroke-linejoin=\"miter\"/></g><g id=\"black-rook\" class=\"black rook\" fill=\"#000\" fill-rule=\"evenodd\" stroke=\"#000\" stroke-width=\"1.5\" stroke-linecap=\"round\" stroke-linejoin=\"round\"><path d=\"M9 39h27v-3H9v3zM12.5 32l1.5-2.5h17l1.5 2.5h-20zM12 36v-4h21v4H12z\" stroke-linecap=\"butt\"/><path d=\"M14 29.5v-13h17v13H14z\" stroke-linecap=\"butt\" stroke-linejoin=\"miter\"/><path d=\"M14 16.5L11 14h23l-3 2.5H14zM11 14V9h4v2h5V9h5v2h5V9h4v5H11z\" stroke-linecap=\"butt\"/><path d=\"M12 35.5h21M13 31.5h19M14 29.5h17M14 16.5h17M11 14h23\" fill=\"none\" stroke=\"#fff\" stroke-width=\"1\" stroke-linejoin=\"miter\"/></g><g id=\"black-queen\" class=\"black queen\" fill=\"#000\" fill-rule=\"evenodd\" stroke=\"#000\" stroke-width=\"1.5\" stroke-linecap=\"round\" stroke-linejoin=\"round\"><g fill=\"#000\" stroke=\"none\"><circle cx=\"6\" cy=\"12\" r=\"2.75\"/><circle cx=\"14\" cy=\"9\" r=\"2.75\"/><circle cx=\"22.5\" cy=\"8\" r=\"2.75\"/><circle cx=\"31\" cy=\"9\" r=\"2.75\"/><circle cx=\"39\" cy=\"12\" r=\"2.75\"/></g><path d=\"M9 26c8.5-1.5 21-1.5 27 0l2.5-12.5L31 25l-.3-14.1-5.2 13.6-3-14.5-3 14.5-5.2-13.6L14 25 6.5 13.5 9 26zM9 26c0 2 1.5 2 2.5 4 1 1.5 1 1 .5 3.5-1.5 1-1.5 2.5-1.5 2.5-1.5 1.5.5 2.5.5 2.5 6.5 1 16.5 1 23 0 0 0 1.5-1 0-2.5 0 0 .5-1.5-1-2.5-.5-2.5-.5-2 .5-3.5 1-2 2.5-2 2.5-4-8.5-1.5-18.5-1.5-27 0z\" stroke-linecap=\"butt\"/><path d=\"M11 38.5a35 35 1 0 0 23 0\" fill=\"none\" stroke-linecap=\"butt\"/><path d=\"M11 29a35 35 1 0 1 23 0M12.5 31.5h20M11.5 34.5a35 35 1 0 0 22 0M10.5 37.5a35 35 1 0 0 24 0\" fill=\"none\" stroke=\"#fff\"/></g><g id=\"black-king\" class=\"black king\" fill=\"none\" fill-rule=\"evenodd\" stroke=\"#000\" stroke-width=\"1.5\" stroke-linecap=\"round\" stroke-linejoin=\"round\"><path d=\"M22.5 11.63V6\" stroke-linejoin=\"miter\"/><path d=\"M22.5 25s4.5-7.5 3-10.5c0 0-1-2.5-3-2.5s-3 2.5-3 2.5c-1.5 3 3 10.5 3 10.5\" fill=\"#000\" stroke-linecap=\"butt\" stroke-linejoin=\"miter\"/><path d=\"M11.5 37c5.5 3.5 15.5 3.5 21 0v-7s9-4.5 6-10.5c-4-6.5-13.5-3.5-16 4V27v-3.5c-3.5-7.5-13-10.5-16-4-3 6 5 10 5 10V37z\" fill=\"#000\"/><path d=\"M20 8h5\" stroke-linejoin=\"miter\"/><path d=\"M32 29.5s8.5-4 6.03-9.65C34.15 14 25 18 22.5 24.5l.01 2.1-.01-2.1C20 18 9.906 14 6.997 19.85c-2.497 5.65 4.853 9 4.853 9M11.5 30c5.5-3 15.5-3 21 0m-21 3.5c5.5-3 15.5-3 21 0m-21 3.5c5.5-3 15.5-3 21 0\" stroke=\"#fff\"/></g></defs><rect x=\"0\" y=\"315\" width=\"45\" height=\"45\" class=\"square dark a1\" stroke=\"none\" fill=\"#d18b47\"/><rect x=\"45\" y=\"315\" width=\"45\" height=\"45\" class=\"square light b1\" stroke=\"none\" fill=\"#ffce9e\"/><rect x=\"90\" y=\"315\" width=\"45\" height=\"45\" class=\"square dark c1\" stroke=\"none\" fill=\"#d18b47\"/><rect x=\"135\" y=\"315\" width=\"45\" height=\"45\" class=\"square light d1\" stroke=\"none\" fill=\"#ffce9e\"/><rect x=\"180\" y=\"315\" width=\"45\" height=\"45\" class=\"square dark e1\" stroke=\"none\" fill=\"#d18b47\"/><rect x=\"225\" y=\"315\" width=\"45\" height=\"45\" class=\"square light f1\" stroke=\"none\" fill=\"#ffce9e\"/><rect x=\"270\" y=\"315\" width=\"45\" height=\"45\" class=\"square dark g1\" stroke=\"none\" fill=\"#d18b47\"/><rect x=\"315\" y=\"315\" width=\"45\" height=\"45\" class=\"square light h1\" stroke=\"none\" fill=\"#ffce9e\"/><rect x=\"0\" y=\"270\" width=\"45\" height=\"45\" class=\"square light a2\" stroke=\"none\" fill=\"#ffce9e\"/><rect x=\"45\" y=\"270\" width=\"45\" height=\"45\" class=\"square dark b2\" stroke=\"none\" fill=\"#d18b47\"/><rect x=\"90\" y=\"270\" width=\"45\" height=\"45\" class=\"square light c2\" stroke=\"none\" fill=\"#ffce9e\"/><rect x=\"135\" y=\"270\" width=\"45\" height=\"45\" class=\"square dark d2\" stroke=\"none\" fill=\"#d18b47\"/><rect x=\"180\" y=\"270\" width=\"45\" height=\"45\" class=\"square light e2\" stroke=\"none\" fill=\"#ffce9e\"/><rect x=\"225\" y=\"270\" width=\"45\" height=\"45\" class=\"square dark f2\" stroke=\"none\" fill=\"#d18b47\"/><rect x=\"270\" y=\"270\" width=\"45\" height=\"45\" class=\"square light g2\" stroke=\"none\" fill=\"#ffce9e\"/><rect x=\"315\" y=\"270\" width=\"45\" height=\"45\" class=\"square dark h2\" stroke=\"none\" fill=\"#d18b47\"/><rect x=\"0\" y=\"225\" width=\"45\" height=\"45\" class=\"square dark a3\" stroke=\"none\" fill=\"#d18b47\"/><rect x=\"45\" y=\"225\" width=\"45\" height=\"45\" class=\"square light b3\" stroke=\"none\" fill=\"#ffce9e\"/><rect x=\"90\" y=\"225\" width=\"45\" height=\"45\" class=\"square dark c3\" stroke=\"none\" fill=\"#d18b47\"/><rect x=\"135\" y=\"225\" width=\"45\" height=\"45\" class=\"square light d3\" stroke=\"none\" fill=\"#ffce9e\"/><rect x=\"180\" y=\"225\" width=\"45\" height=\"45\" class=\"square dark e3\" stroke=\"none\" fill=\"#d18b47\"/><rect x=\"225\" y=\"225\" width=\"45\" height=\"45\" class=\"square light f3\" stroke=\"none\" fill=\"#ffce9e\"/><rect x=\"270\" y=\"225\" width=\"45\" height=\"45\" class=\"square dark g3\" stroke=\"none\" fill=\"#d18b47\"/><rect x=\"315\" y=\"225\" width=\"45\" height=\"45\" class=\"square light h3\" stroke=\"none\" fill=\"#ffce9e\"/><rect x=\"0\" y=\"180\" width=\"45\" height=\"45\" class=\"square light a4\" stroke=\"none\" fill=\"#ffce9e\"/><rect x=\"45\" y=\"180\" width=\"45\" height=\"45\" class=\"square dark b4\" stroke=\"none\" fill=\"#d18b47\"/><rect x=\"90\" y=\"180\" width=\"45\" height=\"45\" class=\"square light c4\" stroke=\"none\" fill=\"#ffce9e\"/><rect x=\"135\" y=\"180\" width=\"45\" height=\"45\" class=\"square dark d4\" stroke=\"none\" fill=\"#d18b47\"/><rect x=\"180\" y=\"180\" width=\"45\" height=\"45\" class=\"square light e4\" stroke=\"none\" fill=\"#ffce9e\"/><rect x=\"225\" y=\"180\" width=\"45\" height=\"45\" class=\"square dark f4\" stroke=\"none\" fill=\"#d18b47\"/><rect x=\"270\" y=\"180\" width=\"45\" height=\"45\" class=\"square light g4\" stroke=\"none\" fill=\"#ffce9e\"/><rect x=\"315\" y=\"180\" width=\"45\" height=\"45\" class=\"square dark h4\" stroke=\"none\" fill=\"#d18b47\"/><rect x=\"0\" y=\"135\" width=\"45\" height=\"45\" class=\"square dark a5\" stroke=\"none\" fill=\"#d18b47\"/><rect x=\"45\" y=\"135\" width=\"45\" height=\"45\" class=\"square light b5\" stroke=\"none\" fill=\"#ffce9e\"/><rect x=\"90\" y=\"135\" width=\"45\" height=\"45\" class=\"square dark c5\" stroke=\"none\" fill=\"#d18b47\"/><rect x=\"135\" y=\"135\" width=\"45\" height=\"45\" class=\"square light d5\" stroke=\"none\" fill=\"#ffce9e\"/><rect x=\"180\" y=\"135\" width=\"45\" height=\"45\" class=\"square dark e5\" stroke=\"none\" fill=\"#d18b47\"/><rect x=\"225\" y=\"135\" width=\"45\" height=\"45\" class=\"square light f5\" stroke=\"none\" fill=\"#ffce9e\"/><rect x=\"270\" y=\"135\" width=\"45\" height=\"45\" class=\"square dark g5\" stroke=\"none\" fill=\"#d18b47\"/><rect x=\"315\" y=\"135\" width=\"45\" height=\"45\" class=\"square light h5\" stroke=\"none\" fill=\"#ffce9e\"/><rect x=\"0\" y=\"90\" width=\"45\" height=\"45\" class=\"square light a6\" stroke=\"none\" fill=\"#ffce9e\"/><rect x=\"45\" y=\"90\" width=\"45\" height=\"45\" class=\"square dark b6\" stroke=\"none\" fill=\"#d18b47\"/><rect x=\"90\" y=\"90\" width=\"45\" height=\"45\" class=\"square light c6\" stroke=\"none\" fill=\"#ffce9e\"/><rect x=\"135\" y=\"90\" width=\"45\" height=\"45\" class=\"square dark d6\" stroke=\"none\" fill=\"#d18b47\"/><rect x=\"180\" y=\"90\" width=\"45\" height=\"45\" class=\"square light e6\" stroke=\"none\" fill=\"#ffce9e\"/><rect x=\"225\" y=\"90\" width=\"45\" height=\"45\" class=\"square dark f6\" stroke=\"none\" fill=\"#d18b47\"/><rect x=\"270\" y=\"90\" width=\"45\" height=\"45\" class=\"square light g6\" stroke=\"none\" fill=\"#ffce9e\"/><rect x=\"315\" y=\"90\" width=\"45\" height=\"45\" class=\"square dark h6\" stroke=\"none\" fill=\"#d18b47\"/><rect x=\"0\" y=\"45\" width=\"45\" height=\"45\" class=\"square dark a7\" stroke=\"none\" fill=\"#d18b47\"/><rect x=\"45\" y=\"45\" width=\"45\" height=\"45\" class=\"square light b7\" stroke=\"none\" fill=\"#ffce9e\"/><rect x=\"90\" y=\"45\" width=\"45\" height=\"45\" class=\"square dark c7\" stroke=\"none\" fill=\"#d18b47\"/><rect x=\"135\" y=\"45\" width=\"45\" height=\"45\" class=\"square light d7\" stroke=\"none\" fill=\"#ffce9e\"/><rect x=\"180\" y=\"45\" width=\"45\" height=\"45\" class=\"square dark e7\" stroke=\"none\" fill=\"#d18b47\"/><rect x=\"225\" y=\"45\" width=\"45\" height=\"45\" class=\"square light f7\" stroke=\"none\" fill=\"#ffce9e\"/><rect x=\"270\" y=\"45\" width=\"45\" height=\"45\" class=\"square dark g7\" stroke=\"none\" fill=\"#d18b47\"/><rect x=\"315\" y=\"45\" width=\"45\" height=\"45\" class=\"square light h7\" stroke=\"none\" fill=\"#ffce9e\"/><rect x=\"0\" y=\"0\" width=\"45\" height=\"45\" class=\"square light a8\" stroke=\"none\" fill=\"#ffce9e\"/><rect x=\"45\" y=\"0\" width=\"45\" height=\"45\" class=\"square dark b8\" stroke=\"none\" fill=\"#d18b47\"/><rect x=\"90\" y=\"0\" width=\"45\" height=\"45\" class=\"square light c8\" stroke=\"none\" fill=\"#ffce9e\"/><rect x=\"135\" y=\"0\" width=\"45\" height=\"45\" class=\"square dark d8\" stroke=\"none\" fill=\"#d18b47\"/><rect x=\"180\" y=\"0\" width=\"45\" height=\"45\" class=\"square light e8\" stroke=\"none\" fill=\"#ffce9e\"/><rect x=\"225\" y=\"0\" width=\"45\" height=\"45\" class=\"square dark f8\" stroke=\"none\" fill=\"#d18b47\"/><rect x=\"270\" y=\"0\" width=\"45\" height=\"45\" class=\"square light g8\" stroke=\"none\" fill=\"#ffce9e\"/><rect x=\"315\" y=\"0\" width=\"45\" height=\"45\" class=\"square dark h8\" stroke=\"none\" fill=\"#d18b47\"/><use href=\"#white-rook\" xlink:href=\"#white-rook\" transform=\"translate(0, 315)\"/><use href=\"#white-knight\" xlink:href=\"#white-knight\" transform=\"translate(45, 315)\"/><use href=\"#white-rook\" xlink:href=\"#white-rook\" transform=\"translate(315, 315)\"/><use href=\"#white-pawn\" xlink:href=\"#white-pawn\" transform=\"translate(45, 270)\"/><use href=\"#white-king\" xlink:href=\"#white-king\" transform=\"translate(270, 270)\"/><use href=\"#white-pawn\" xlink:href=\"#white-pawn\" transform=\"translate(315, 270)\"/><use href=\"#white-pawn\" xlink:href=\"#white-pawn\" transform=\"translate(0, 225)\"/><use href=\"#black-knight\" xlink:href=\"#black-knight\" transform=\"translate(45, 225)\"/><use href=\"#white-pawn\" xlink:href=\"#white-pawn\" transform=\"translate(90, 225)\"/><use href=\"#white-pawn\" xlink:href=\"#white-pawn\" transform=\"translate(180, 225)\"/><use href=\"#white-pawn\" xlink:href=\"#white-pawn\" transform=\"translate(270, 225)\"/><use href=\"#white-knight\" xlink:href=\"#white-knight\" transform=\"translate(315, 225)\"/><use href=\"#white-pawn\" xlink:href=\"#white-pawn\" transform=\"translate(225, 180)\"/><use href=\"#black-pawn\" xlink:href=\"#black-pawn\" transform=\"translate(90, 135)\"/><use href=\"#white-pawn\" xlink:href=\"#white-pawn\" transform=\"translate(135, 135)\"/><use href=\"#black-pawn\" xlink:href=\"#black-pawn\" transform=\"translate(0, 90)\"/><use href=\"#black-pawn\" xlink:href=\"#black-pawn\" transform=\"translate(135, 90)\"/><use href=\"#black-rook\" xlink:href=\"#black-rook\" transform=\"translate(0, 45)\"/><use href=\"#black-king\" xlink:href=\"#black-king\" transform=\"translate(135, 45)\"/><use href=\"#black-bishop\" xlink:href=\"#black-bishop\" transform=\"translate(180, 45)\"/><use href=\"#black-pawn\" xlink:href=\"#black-pawn\" transform=\"translate(225, 45)\"/><use href=\"#black-pawn\" xlink:href=\"#black-pawn\" transform=\"translate(270, 45)\"/><use href=\"#black-pawn\" xlink:href=\"#black-pawn\" transform=\"translate(315, 45)\"/><use href=\"#black-bishop\" xlink:href=\"#black-bishop\" transform=\"translate(0, 0)\"/><use href=\"#black-queen\" xlink:href=\"#black-queen\" transform=\"translate(135, 0)\"/><use href=\"#black-knight\" xlink:href=\"#black-knight\" transform=\"translate(270, 0)\"/><use href=\"#black-rook\" xlink:href=\"#black-rook\" transform=\"translate(315, 0)\"/></svg>"
          },
          "metadata": {}
        },
        {
          "output_type": "stream",
          "name": "stdout",
          "text": [
            "Chessboard image saved as 'chessboard.png'\n",
            "\n",
            "Decoded Data: abcdefghijklmnopqrstuvwxyz\n"
          ]
        }
      ]
    },
    {
      "cell_type": "markdown",
      "source": [
        "# Decoding"
      ],
      "metadata": {
        "id": "gFnNF8ofHCMP"
      }
    },
    {
      "cell_type": "code",
      "source": [
        "\n"
      ],
      "metadata": {
        "id": "j8e4mUsBGaUK",
        "outputId": "bffcc6f8-9e43-419f-9163-2b123b932564",
        "colab": {
          "base_uri": "https://localhost:8080/"
        }
      },
      "execution_count": 51,
      "outputs": [
        {
          "output_type": "stream",
          "name": "stdout",
          "text": [
            "Requirement already satisfied: opencv-python in /usr/local/lib/python3.10/dist-packages (4.10.0.84)\n",
            "Requirement already satisfied: numpy>=1.21.2 in /usr/local/lib/python3.10/dist-packages (from opencv-python) (1.26.4)\n",
            "Requirement already satisfied: numpy in /usr/local/lib/python3.10/dist-packages (1.26.4)\n",
            "Requirement already satisfied: python-chess in /usr/local/lib/python3.10/dist-packages (1.999)\n",
            "Requirement already satisfied: chess<2,>=1 in /usr/local/lib/python3.10/dist-packages (from python-chess) (1.11.1)\n"
          ]
        }
      ]
    },
    {
      "cell_type": "markdown",
      "source": [],
      "metadata": {
        "id": "J_JedlGAHMUJ"
      }
    },
    {
      "cell_type": "code",
      "source": [],
      "metadata": {
        "id": "5_dGm9RCHHkX"
      },
      "execution_count": null,
      "outputs": []
    }
  ]
}