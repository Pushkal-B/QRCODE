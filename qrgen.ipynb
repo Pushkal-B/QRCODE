{
  "nbformat": 4,
  "nbformat_minor": 0,
  "metadata": {
    "colab": {
      "name": "qrgen.ipynb",
      "provenance": [],
      "collapsed_sections": [],
      "authorship_tag": "ABX9TyP10pOvF5DipNS8/kKYaTn1",
      "include_colab_link": true
    },
    "kernelspec": {
      "name": "python3",
      "display_name": "Python 3"
    },
    "language_info": {
      "name": "python"
    }
  },
  "cells": [
    {
      "cell_type": "markdown",
      "metadata": {
        "id": "view-in-github",
        "colab_type": "text"
      },
      "source": [
        "<a href=\"https://colab.research.google.com/github/Pushkal-B/QRCODE/blob/main/qrgen.ipynb\" target=\"_parent\"><img src=\"https://colab.research.google.com/assets/colab-badge.svg\" alt=\"Open In Colab\"/></a>"
      ]
    },
    {
      "cell_type": "code",
      "metadata": {
        "colab": {
          "base_uri": "https://localhost:8080/",
          "height": 267
        },
        "id": "vEyxMeLhZT2z",
        "outputId": "4987266c-3db0-4bff-adec-f87a2c5ad96f"
      },
      "source": [
        "#install pakages through pip\n",
        "!pip install pyqrcode\n",
        "!pip install pypng\n",
        "#importing pakages\n",
        "import pyqrcode\n",
        "import png\n",
        "from IPython.display import display, Image\n",
        "from pyqrcode import QRCode\n",
        "\n",
        "#taking string input i.e. URL\n",
        "s = input(\"Enter url: \")\n",
        "\n",
        "# Generate QR code\n",
        "url = pyqrcode.create(s)\n",
        "\n",
        "# Create and save the png file naming \"myqr.png\"\n",
        "url.png('myqr.png', scale = 6)\n",
        "\n",
        "#displaying the output qrcode\n",
        "display(Image(filename='myqr.png'))\n",
        "\n"
      ],
      "execution_count": 13,
      "outputs": [
        {
          "name": "stdout",
          "output_type": "stream",
          "text": [
            "Requirement already satisfied: pyqrcode in /usr/local/lib/python3.7/dist-packages (1.2.1)\n",
            "Requirement already satisfied: pypng in /usr/local/lib/python3.7/dist-packages (0.0.21)\n",
            "Enter url: youtube.com\n"
          ]
        },
        {
          "output_type": "display_data",
          "data": {
            "image/png": "[encoded data removed]",
            "text/plain": [
              "<IPython.core.display.Image object>"
            ]
          },
          "metadata": {}
        }
      ]
    }
  ]
}